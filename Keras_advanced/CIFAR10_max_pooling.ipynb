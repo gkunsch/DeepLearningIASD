{
 "cells": [
  {
   "cell_type": "code",
   "execution_count": 1,
   "metadata": {},
   "outputs": [],
   "source": [
    "import tensorflow as tf\n",
    "from tensorflow import keras \n",
    "import numpy as np "
   ]
  },
  {
   "cell_type": "code",
   "execution_count": 2,
   "metadata": {},
   "outputs": [],
   "source": [
    "from keras import datasets\n",
    "(train_images, train_labels), (test_images, test_labels) = datasets.cifar10.load_data()\n",
    "train_images, test_images = train_images / 255.0, test_images / 255.0"
   ]
  },
  {
   "cell_type": "code",
   "execution_count": 3,
   "metadata": {},
   "outputs": [],
   "source": [
    "from keras.utils import to_categorical\n",
    "train_labels = to_categorical(train_labels)\n",
    "test_labels = to_categorical(test_labels)"
   ]
  },
  {
   "cell_type": "code",
   "execution_count": 4,
   "metadata": {},
   "outputs": [
    {
     "name": "stderr",
     "output_type": "stream",
     "text": [
      "2022-10-23 21:09:09.381807: I tensorflow/core/platform/cpu_feature_guard.cc:193] This TensorFlow binary is optimized with oneAPI Deep Neural Network Library (oneDNN) to use the following CPU instructions in performance-critical operations:  AVX2 FMA\n",
      "To enable them in other operations, rebuild TensorFlow with the appropriate compiler flags.\n"
     ]
    }
   ],
   "source": [
    "from keras.layers import Dense, Flatten, Activation, Dropout, MaxPooling2D\n",
    "from keras.layers import Conv2D\n",
    "from keras import Sequential\n",
    "from keras import optimizers \n",
    "\n",
    "network = Sequential()\n",
    "network.add(Conv2D(input_shape = (32, 32, 3), filters =32, kernel_size= (3,3), activation = 'relu'))\n",
    "network.add(MaxPooling2D(pool_size=(2,2)))\n",
    "network.add(Conv2D(filters=64, kernel_size= (3,3), activation = 'relu'))\n",
    "network.add(MaxPooling2D(pool_size=(2,2)))\n",
    "network.add(Conv2D(filters=64, kernel_size= (3,3), activation = 'relu'))\n",
    "network.add(Flatten())\n",
    "network.add(Dense(128, activation='relu')) \n",
    "network.add(Dropout(0.5))\n",
    "network.add(Dense(10, activation='softmax'))\n",
    "network.compile(optimizer=optimizers.Adam(), loss='categorical_crossentropy', metrics=['accuracy'])"
   ]
  },
  {
   "cell_type": "code",
   "execution_count": 5,
   "metadata": {},
   "outputs": [
    {
     "name": "stdout",
     "output_type": "stream",
     "text": [
      "Epoch 1/10\n",
      "98/98 [==============================] - 19s 191ms/step - loss: 1.9880 - accuracy: 0.2637 - val_loss: 1.6768 - val_accuracy: 0.4027\n",
      "Epoch 2/10\n",
      "98/98 [==============================] - 18s 186ms/step - loss: 1.6402 - accuracy: 0.3967 - val_loss: 1.4626 - val_accuracy: 0.4648\n",
      "Epoch 3/10\n",
      "98/98 [==============================] - 22s 220ms/step - loss: 1.5029 - accuracy: 0.4568 - val_loss: 1.3998 - val_accuracy: 0.5010\n",
      "Epoch 4/10\n",
      "98/98 [==============================] - 26s 263ms/step - loss: 1.4091 - accuracy: 0.4929 - val_loss: 1.2674 - val_accuracy: 0.5443\n",
      "Epoch 5/10\n",
      "98/98 [==============================] - 21s 210ms/step - loss: 1.3471 - accuracy: 0.5194 - val_loss: 1.2337 - val_accuracy: 0.5610\n",
      "Epoch 6/10\n",
      "98/98 [==============================] - 19s 199ms/step - loss: 1.2894 - accuracy: 0.5421 - val_loss: 1.1867 - val_accuracy: 0.5771\n",
      "Epoch 7/10\n",
      "98/98 [==============================] - 19s 198ms/step - loss: 1.2282 - accuracy: 0.5657 - val_loss: 1.1333 - val_accuracy: 0.5935\n",
      "Epoch 8/10\n",
      "98/98 [==============================] - 19s 191ms/step - loss: 1.1867 - accuracy: 0.5808 - val_loss: 1.0875 - val_accuracy: 0.6141\n",
      "Epoch 9/10\n",
      "98/98 [==============================] - 19s 198ms/step - loss: 1.1527 - accuracy: 0.5949 - val_loss: 1.0735 - val_accuracy: 0.6234\n",
      "Epoch 10/10\n",
      "98/98 [==============================] - 20s 199ms/step - loss: 1.1119 - accuracy: 0.6099 - val_loss: 1.0490 - val_accuracy: 0.6247\n"
     ]
    },
    {
     "data": {
      "text/plain": [
       "<keras.callbacks.History at 0x7fd1ba291e50>"
      ]
     },
     "execution_count": 5,
     "metadata": {},
     "output_type": "execute_result"
    }
   ],
   "source": [
    "network.fit(train_images, train_labels, epochs=10, batch_size=512, verbose=1, validation_data=(test_images, test_labels))"
   ]
  },
  {
   "cell_type": "code",
   "execution_count": 6,
   "metadata": {},
   "outputs": [
    {
     "name": "stdout",
     "output_type": "stream",
     "text": [
      "test loss: 1.0489789247512817\n",
      "test accuracy: 0.6247000098228455\n"
     ]
    }
   ],
   "source": [
    "score = network.evaluate(test_images,test_labels,verbose= 0)\n",
    "print('test loss:',score [0])\n",
    "print('test accuracy:',score [1])"
   ]
  }
 ],
 "metadata": {
  "kernelspec": {
   "display_name": "Python 3.9.13 ('CoursIASDsurDL')",
   "language": "python",
   "name": "python3"
  },
  "language_info": {
   "codemirror_mode": {
    "name": "ipython",
    "version": 3
   },
   "file_extension": ".py",
   "mimetype": "text/x-python",
   "name": "python",
   "nbconvert_exporter": "python",
   "pygments_lexer": "ipython3",
   "version": "3.9.13"
  },
  "orig_nbformat": 4,
  "vscode": {
   "interpreter": {
    "hash": "61832d796b459ea0c328439f285fc36e83de2609730a347e1dc6879359cf168f"
   }
  }
 },
 "nbformat": 4,
 "nbformat_minor": 2
}
