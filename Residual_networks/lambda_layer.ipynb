{
 "cells": [
  {
   "cell_type": "code",
   "execution_count": null,
   "metadata": {},
   "outputs": [],
   "source": [
    "# add a layer that returns the concatenation\n",
    "# of the positive part of the input and\n",
    "# the opposite of the negative part\n",
    "import tensorflow as tf \n",
    "\n",
    "def antirectifier(x):\n",
    "    x -= K.mean(x, axis=1, keepdims=True)\n",
    "    x = K.l2_normalize(x, axis=1)\n",
    "    pos = K.relu(x)\n",
    "    neg = K.relu(-x)\n",
    "    return K.concatenate([pos, neg], axis=1)\n",
    "\n",
    "model.add(Lambda(antirectifier))"
   ]
  },
  {
   "cell_type": "code",
   "execution_count": null,
   "metadata": {},
   "outputs": [],
   "source": [
    "def flip(x):\n",
    "    x = tf.reverse (x, [-1])\n",
    "    return x\n",
    "\n",
    "model.add(Lambda(flip))"
   ]
  }
 ],
 "metadata": {
  "kernelspec": {
   "display_name": "Python 3.9.13 ('CoursIASDsurDL')",
   "language": "python",
   "name": "python3"
  },
  "language_info": {
   "name": "python",
   "version": "3.9.13"
  },
  "orig_nbformat": 4,
  "vscode": {
   "interpreter": {
    "hash": "61832d796b459ea0c328439f285fc36e83de2609730a347e1dc6879359cf168f"
   }
  }
 },
 "nbformat": 4,
 "nbformat_minor": 2
}
