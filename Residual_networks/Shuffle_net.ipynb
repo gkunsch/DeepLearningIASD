{
 "cells": [
  {
   "cell_type": "code",
   "execution_count": 11,
   "metadata": {},
   "outputs": [],
   "source": [
    "#TO DO: debug\n",
    "import tensorflow as tf \n",
    "from tensorflow import keras\n",
    "from keras.layers import Input, Conv2D, DepthwiseConv2D, Dense, Concatenate, Add, ReLU, BatchNormalization, AvgPool2D, MaxPool2D, GlobalAveragePooling2D, Reshape, Permute, Lambda, Flatten, Activation\n",
    "from keras import regularizers"
   ]
  },
  {
   "cell_type": "code",
   "execution_count": 12,
   "metadata": {},
   "outputs": [],
   "source": [
    "def gconv(tensor, channels, groups): \n",
    "    input_ch = tensor.get_shape().as_list()[-1] \n",
    "    group_ch = input_ch // groups\n",
    "    output_ch = channels // groups \n",
    "    groups_list = []\n",
    "\n",
    "    for i in range(groups):\n",
    "        group_tensor = tensor[:, :, :, i * group_ch: (i+1) * group_ch] \n",
    "        group_tensor = Conv2D(output_ch, 1)(group_tensor) \n",
    "        groups_list.append(group_tensor)\n",
    "    \n",
    "    output = Concatenate()(groups_list) \n",
    "    return output"
   ]
  },
  {
   "cell_type": "code",
   "execution_count": 13,
   "metadata": {},
   "outputs": [],
   "source": [
    "def channel_shuffle(x, groups):\n",
    "    _, width, height, channels = x.get_shape().as_list() \n",
    "    group_ch = channels // groups\n",
    "    x = Reshape([width, height, group_ch, groups])(x) \n",
    "    x = Permute([1, 2, 4, 3])(x)\n",
    "    x = Reshape([width, height, channels])(x)\n",
    "    return x"
   ]
  },
  {
   "cell_type": "code",
   "execution_count": 14,
   "metadata": {},
   "outputs": [],
   "source": [
    "def bottleneck_block(tensor, expand=96, squeeze=16): \n",
    "    x = gconv(tensor, channels=expand, groups=4)\n",
    "    x = BatchNormalization()(x)\n",
    "    x = ReLU()(x)\n",
    "    x = channel_shuffle(x, groups=4)\n",
    "    x = DepthwiseConv2D(kernel_size=3, padding='same')(x)\n",
    "    x = BatchNormalization()(x)\n",
    "    x = gconv(x, channels=squeeze, groups=4)\n",
    "    x = BatchNormalization()(x)\n",
    "    x = Add()([tensor, x]) \n",
    "    output = ReLU()(x) \n",
    "    return output"
   ]
  },
  {
   "cell_type": "code",
   "execution_count": 15,
   "metadata": {},
   "outputs": [],
   "source": [
    "def getModel ():\n",
    "    input = keras.Input(shape=(19, 19, planes), name='board')\n",
    "    x = Conv2D(trunk, 1, padding='same', kernel_regularizer=regularizers.l2(0.0001))(input) \n",
    "    x = BatchNormalization()(x)\n",
    "    x = ReLU()(x)\n",
    "    \n",
    "    for i in range (blocks):\n",
    "        x = bottleneck_block (x, filters, trunk)\n",
    "    \n",
    "    policy_head = Conv2D(1, 1, activation='relu', padding='same', use_bias = False, kernel_regularizer=regularizers.l2(0.0001))(x) \n",
    "    policy_head = Flatten()(policy_head)\n",
    "    policy_head = Activation('softmax', name='policy')(policy_head)\n",
    "    \n",
    "    value_head = GlobalAveragePooling2D()(x)\n",
    "    value_head = Dense(50, activation='relu', kernel_regularizer=regularizers.l2(0.0001))(value_head)\n",
    "    value_head = Dense(1, activation='sigmoid', name='value', kernel_regularizer=regularizers.l2(0.0001))(value_head)\n",
    "    model = keras.Model(inputs=input, outputs=[policy_head, value_head]) \n",
    "    \n",
    "    return model"
   ]
  },
  {
   "cell_type": "code",
   "execution_count": 16,
   "metadata": {},
   "outputs": [
    {
     "ename": "NameError",
     "evalue": "name 'planes' is not defined",
     "output_type": "error",
     "traceback": [
      "\u001b[0;31m---------------------------------------------------------------------------\u001b[0m",
      "\u001b[0;31mNameError\u001b[0m                                 Traceback (most recent call last)",
      "\u001b[1;32m/Users/GuillaumeKunsch/Desktop/Etudes/Dauphine/IASD/DeepLearning/DeepLearningIASD/Residual_networks/Shuffle_net.ipynb Cellule 6\u001b[0m in \u001b[0;36m<cell line: 1>\u001b[0;34m()\u001b[0m\n\u001b[0;32m----> <a href='vscode-notebook-cell:/Users/GuillaumeKunsch/Desktop/Etudes/Dauphine/IASD/DeepLearning/DeepLearningIASD/Residual_networks/Shuffle_net.ipynb#W5sZmlsZQ%3D%3D?line=0'>1</a>\u001b[0m model \u001b[39m=\u001b[39m getModel()\n\u001b[1;32m      <a href='vscode-notebook-cell:/Users/GuillaumeKunsch/Desktop/Etudes/Dauphine/IASD/DeepLearning/DeepLearningIASD/Residual_networks/Shuffle_net.ipynb#W5sZmlsZQ%3D%3D?line=1'>2</a>\u001b[0m (x_train, y_train), (x_test, y_test) \u001b[39m=\u001b[39m tf\u001b[39m.\u001b[39mkeras\u001b[39m.\u001b[39mdatasets\u001b[39m.\u001b[39mcifar10\u001b[39m.\u001b[39mload_data() \n\u001b[1;32m      <a href='vscode-notebook-cell:/Users/GuillaumeKunsch/Desktop/Etudes/Dauphine/IASD/DeepLearning/DeepLearningIASD/Residual_networks/Shuffle_net.ipynb#W5sZmlsZQ%3D%3D?line=2'>3</a>\u001b[0m x_train \u001b[39m=\u001b[39m x_train\u001b[39m.\u001b[39mastype(\u001b[39m'\u001b[39m\u001b[39mfloat32\u001b[39m\u001b[39m'\u001b[39m) \u001b[39m/\u001b[39m \u001b[39m255.\u001b[39m\n",
      "\u001b[1;32m/Users/GuillaumeKunsch/Desktop/Etudes/Dauphine/IASD/DeepLearning/DeepLearningIASD/Residual_networks/Shuffle_net.ipynb Cellule 6\u001b[0m in \u001b[0;36mgetModel\u001b[0;34m()\u001b[0m\n\u001b[1;32m      <a href='vscode-notebook-cell:/Users/GuillaumeKunsch/Desktop/Etudes/Dauphine/IASD/DeepLearning/DeepLearningIASD/Residual_networks/Shuffle_net.ipynb#W5sZmlsZQ%3D%3D?line=0'>1</a>\u001b[0m \u001b[39mdef\u001b[39;00m \u001b[39mgetModel\u001b[39m ():\n\u001b[0;32m----> <a href='vscode-notebook-cell:/Users/GuillaumeKunsch/Desktop/Etudes/Dauphine/IASD/DeepLearning/DeepLearningIASD/Residual_networks/Shuffle_net.ipynb#W5sZmlsZQ%3D%3D?line=1'>2</a>\u001b[0m     \u001b[39minput\u001b[39m \u001b[39m=\u001b[39m keras\u001b[39m.\u001b[39mInput(shape\u001b[39m=\u001b[39m(\u001b[39m19\u001b[39m, \u001b[39m19\u001b[39m, planes), name\u001b[39m=\u001b[39m\u001b[39m'\u001b[39m\u001b[39mboard\u001b[39m\u001b[39m'\u001b[39m)\n\u001b[1;32m      <a href='vscode-notebook-cell:/Users/GuillaumeKunsch/Desktop/Etudes/Dauphine/IASD/DeepLearning/DeepLearningIASD/Residual_networks/Shuffle_net.ipynb#W5sZmlsZQ%3D%3D?line=2'>3</a>\u001b[0m     x \u001b[39m=\u001b[39m Conv2D(trunk, \u001b[39m1\u001b[39m, padding\u001b[39m=\u001b[39m\u001b[39m'\u001b[39m\u001b[39msame\u001b[39m\u001b[39m'\u001b[39m, kernel_regularizer\u001b[39m=\u001b[39mregularizers\u001b[39m.\u001b[39ml2(\u001b[39m0.0001\u001b[39m))(\u001b[39minput\u001b[39m) \n\u001b[1;32m      <a href='vscode-notebook-cell:/Users/GuillaumeKunsch/Desktop/Etudes/Dauphine/IASD/DeepLearning/DeepLearningIASD/Residual_networks/Shuffle_net.ipynb#W5sZmlsZQ%3D%3D?line=3'>4</a>\u001b[0m     x \u001b[39m=\u001b[39m BatchNormalization()(x)\n",
      "\u001b[0;31mNameError\u001b[0m: name 'planes' is not defined"
     ]
    }
   ],
   "source": [
    "model = getModel()\n",
    "(x_train, y_train), (x_test, y_test) = tf.keras.datasets.cifar10.load_data() \n",
    "x_train = x_train.astype('float32') / 255.\n",
    "x_test = x_test.astype('float32') / 255.\n",
    "y_train = tf.keras.utils.to_categorical(y_train, 10)\n",
    "y_test = tf.keras.utils.to_categorical(y_test, 10)\n",
    "model.compile(optimizer=tf.keras.optimizers.RMSprop(1e-3), loss='categorical_crossentropy',metrics=['acc']) \n",
    "model.fit(x_train, y_train,batch_size=64, epochs=1, validation_split=0.2)"
   ]
  }
 ],
 "metadata": {
  "kernelspec": {
   "display_name": "Python 3.9.13 ('CoursIASDsurDL')",
   "language": "python",
   "name": "python3"
  },
  "language_info": {
   "codemirror_mode": {
    "name": "ipython",
    "version": 3
   },
   "file_extension": ".py",
   "mimetype": "text/x-python",
   "name": "python",
   "nbconvert_exporter": "python",
   "pygments_lexer": "ipython3",
   "version": "3.9.13"
  },
  "orig_nbformat": 4,
  "vscode": {
   "interpreter": {
    "hash": "61832d796b459ea0c328439f285fc36e83de2609730a347e1dc6879359cf168f"
   }
  }
 },
 "nbformat": 4,
 "nbformat_minor": 2
}
