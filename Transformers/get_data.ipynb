{
 "cells": [
  {
   "cell_type": "code",
   "execution_count": null,
   "metadata": {},
   "outputs": [],
   "source": [
    "!curl -O https://ai.stanford.edu/~amaas/data/sentiment/aclImdb_v1.tar.gz \n",
    "!tar -xf aclImdb_v1.tar.gz\n",
    "!rm -r aclImdb/train/unsup"
   ]
  },
  {
   "cell_type": "code",
   "execution_count": 1,
   "metadata": {},
   "outputs": [
    {
     "name": "stdout",
     "output_type": "stream",
     "text": [
      "--2022-11-07 18:56:19--  http://storage.googleapis.com/download.tensorflow.org/data/spa-eng.zip\n",
      "Résolution de storage.googleapis.com (storage.googleapis.com)… 2a00:1450:4007:81a::2010, 2a00:1450:4007:819::2010, 2a00:1450:4007:813::2010, ...\n",
      "Connexion à storage.googleapis.com (storage.googleapis.com)|2a00:1450:4007:81a::2010|:80… connecté.\n",
      "requête HTTP transmise, en attente de la réponse… 200 OK\n",
      "Taille : 2638744 (2,5M) [application/zip]\n",
      "Sauvegarde en : « spa-eng.zip »\n",
      "\n",
      "spa-eng.zip         100%[===================>]   2,52M  1,97MB/s    ds 1,3s    \n",
      "\n",
      "2022-11-07 18:56:20 (1,97 MB/s) — « spa-eng.zip » sauvegardé [2638744/2638744]\n",
      "\n"
     ]
    }
   ],
   "source": [
    "!wget http://storage.googleapis.com/download.tensorflow.org/data/spa-eng.zip \n",
    "!unzip -q spa-eng.zip"
   ]
  }
 ],
 "metadata": {
  "kernelspec": {
   "display_name": "Python 3.9.13 ('CoursIASDsurDL')",
   "language": "python",
   "name": "python3"
  },
  "language_info": {
   "codemirror_mode": {
    "name": "ipython",
    "version": 3
   },
   "file_extension": ".py",
   "mimetype": "text/x-python",
   "name": "python",
   "nbconvert_exporter": "python",
   "pygments_lexer": "ipython3",
   "version": "3.9.13"
  },
  "orig_nbformat": 4,
  "vscode": {
   "interpreter": {
    "hash": "61832d796b459ea0c328439f285fc36e83de2609730a347e1dc6879359cf168f"
   }
  }
 },
 "nbformat": 4,
 "nbformat_minor": 2
}
